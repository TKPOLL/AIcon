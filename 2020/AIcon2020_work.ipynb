{
 "cells": [
  {
   "cell_type": "code",
   "execution_count": null,
   "metadata": {},
   "outputs": [],
   "source": [
    "import cv2\n",
    "import numpy as np\n",
    "\n",
    "class Box:\n",
    "    def __init__(self, x, y, w, h):\n",
    "        self.x = x\n",
    "        self.y = y\n",
    "        self.w = w\n",
    "        self.h = h\n",
    "\n",
    "def show(image, boxes, color, alpha):\n",
    "    image = image.copy()\n",
    "    for b in boxes:\n",
    "        overlay = image.copy()\n",
    "        p1 = (int(b.x), int(b.y))\n",
    "        p2 = (int(b.x + b.w), int(b.y + b.h))\n",
    "        cv2.rectangle(overlay, p1, p2, color, -1)\n",
    "        image = cv2.addWeighted(image, alpha, overlay, 1-alpha, 0)\n",
    "    cv2.imshow('img', image)\n",
    "    cv2.waitKey()\n",
    "\n",
    "def resize(image, boxes, width, height):\n",
    "    # 現在の高さと幅を取得しておく\n",
    "    c_height, c_width = image.shape[:2]\n",
    "    img = cv2.resize(image, (width, height))\n",
    "\n",
    "    # 圧縮する比率(rate)を計算\n",
    "    r_width = width / c_width\n",
    "    r_height = width / c_height\n",
    "\n",
    "    # 比率を使ってBoundingBoxの座標を修正\n",
    "    new_boxes = []\n",
    "    for box in boxes:\n",
    "        x = int(box.x * r_width)\n",
    "        y = int(box.y * r_height)\n",
    "        w = int(box.w * r_width)\n",
    "        h = int(box.h * r_height)\n",
    "        new_box = Box(x, y, w, h)\n",
    "        new_boxes.append(new_box)\n",
    "    return img, new_boxes\n",
    "\n",
    "filepath='apple_PinkLady.jpg'\n",
    "image = cv2.imread(filepath, cv2.IMREAD_IGNORE_ORIENTATION | cv2.IMREAD_COLOR)\n",
    "boxes = [Box(110, 20, 280, 300)]\n",
    "#show(image, boxes, (255, 0, 0), 0.5)\n",
    "# Resize\n",
    "image, boxes = resize(image, boxes, 200, 200)\n",
    "show(image, boxes, (255, 0, 0), 0.5)"
   ]
  },
  {
   "cell_type": "code",
   "execution_count": 2,
   "metadata": {},
   "outputs": [
    {
     "name": "stderr",
     "output_type": "stream",
     "text": [
      "Using TensorFlow backend.\n"
     ]
    },
    {
     "name": "stdout",
     "output_type": "stream",
     "text": [
      "Downloading data from https://www.cs.toronto.edu/~kriz/cifar-10-python.tar.gz\n",
      "170500096/170498071 [==============================] - 39s 0us/step\n"
     ]
    }
   ],
   "source": [
    "%matplotlib inline\n",
    "#from __future__ import division, print_function\n",
    "from keras.datasets import cifar10\n",
    "(X_train, labels_train), (X_test, labels_test) = cifar10.load_data()\n"
   ]
  },
  {
   "cell_type": "code",
   "execution_count": 3,
   "metadata": {},
   "outputs": [
    {
     "name": "stdout",
     "output_type": "stream",
     "text": [
      "<class 'numpy.ndarray'>\n"
     ]
    }
   ],
   "source": [
    "print(type(X_train))"
   ]
  },
  {
   "cell_type": "code",
   "execution_count": 4,
   "metadata": {},
   "outputs": [
    {
     "name": "stdout",
     "output_type": "stream",
     "text": [
      "Requirement already satisfied: xlrd in /anaconda3/lib/python3.7/site-packages (1.2.0)\n",
      "Note: you may need to restart the kernel to use updated packages.\n"
     ]
    }
   ],
   "source": [
    "#pip install xlrd"
   ]
  },
  {
   "cell_type": "code",
   "execution_count": 1,
   "metadata": {},
   "outputs": [],
   "source": [
    "import csv\n",
    "import pandas as pd\n",
    "import cv2\n",
    "import numpy as np\n",
    "from PIL import Image\n",
    "\n",
    "#csvの読み込み\n",
    "df = pd.read_csv('bbox_data.csv')\n",
    "for index,item in df.iterrows():\n",
    "    left = item['x_min']\n",
    "    upper = item['y_min']\n",
    "    right = item['x_max']\n",
    "    lower = item['y_max']\n",
    "    box=(left, upper, right, lower)\n",
    "    im = Image.open('image/' + item['file_name'])\n",
    "    im_crop = im.crop(box)\n",
    "    #im_crop.save('image/a.jpg')"
   ]
  },
  {
   "cell_type": "code",
   "execution_count": null,
   "metadata": {},
   "outputs": [],
   "source": []
  }
 ],
 "metadata": {
  "kernelspec": {
   "display_name": "Python 3",
   "language": "python",
   "name": "python3"
  },
  "language_info": {
   "codemirror_mode": {
    "name": "ipython",
    "version": 3
   },
   "file_extension": ".py",
   "mimetype": "text/x-python",
   "name": "python",
   "nbconvert_exporter": "python",
   "pygments_lexer": "ipython3",
   "version": "3.7.3"
  }
 },
 "nbformat": 4,
 "nbformat_minor": 2
}
