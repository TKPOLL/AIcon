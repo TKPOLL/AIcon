{
 "cells": [
  {
   "cell_type": "code",
   "execution_count": 13,
   "metadata": {},
   "outputs": [],
   "source": [
    "#import\n",
    "import collections\n",
    "from const import const_gyoushu_list\n",
    "import math\n",
    "import pandas as pd\n",
    "import csv\n",
    "import MeCab\n",
    "import re\n",
    "from collections import Counter\n"
   ]
  },
  {
   "cell_type": "code",
   "execution_count": 9,
   "metadata": {},
   "outputs": [],
   "source": [
    "#自身のPCのgitHub親パス(次は田端の場合。動かす場合は、各自のパスに差し替えること)\n",
    "root_git_path = \"/Users/tabatatoshinori/git\"\n",
    "df_dictionary = pd.read_csv(root_git_path + '/TomatoPJ/work/10_tabata/03_PGM/実験用データ/result_corpus.csv').values.tolist()\n",
    "\n",
    "tagger = MeCab.Tagger()"
   ]
  },
  {
   "cell_type": "code",
   "execution_count": 21,
   "metadata": {},
   "outputs": [
    {
     "ename": "UnicodeDecodeError",
     "evalue": "'utf-8' codec can't decode bytes in position 12-13: invalid continuation byte",
     "output_type": "error",
     "traceback": [
      "\u001b[0;31m---------------------------------------------------------------------------\u001b[0m",
      "\u001b[0;31mUnicodeDecodeError\u001b[0m                        Traceback (most recent call last)",
      "\u001b[0;32m<ipython-input-21-177d64602da7>\u001b[0m in \u001b[0;36m<module>\u001b[0;34m\u001b[0m\n\u001b[1;32m      2\u001b[0m \u001b[0;32mwith\u001b[0m \u001b[0mopen\u001b[0m\u001b[0;34m(\u001b[0m\u001b[0;34m'/Users/tabatatoshinori/git/TomatoPJ/work/10_tabata/03_PGM/実験用データ/csv/問題分1.csv'\u001b[0m\u001b[0;34m,\u001b[0m \u001b[0;34m\"r\"\u001b[0m\u001b[0;34m,\u001b[0m \u001b[0mencoding\u001b[0m\u001b[0;34m=\u001b[0m\u001b[0;34m\"UTF-8\"\u001b[0m\u001b[0;34m)\u001b[0m \u001b[0;32mas\u001b[0m \u001b[0mf\u001b[0m\u001b[0;34m:\u001b[0m\u001b[0;34m\u001b[0m\u001b[0;34m\u001b[0m\u001b[0m\n\u001b[1;32m      3\u001b[0m \u001b[0;34m\u001b[0m\u001b[0m\n\u001b[0;32m----> 4\u001b[0;31m     \u001b[0mreader\u001b[0m \u001b[0;34m=\u001b[0m \u001b[0mf\u001b[0m\u001b[0;34m.\u001b[0m\u001b[0mread\u001b[0m\u001b[0;34m(\u001b[0m\u001b[0;34m)\u001b[0m\u001b[0;34m\u001b[0m\u001b[0;34m\u001b[0m\u001b[0m\n\u001b[0m\u001b[1;32m      5\u001b[0m \u001b[0;34m\u001b[0m\u001b[0m\n\u001b[1;32m      6\u001b[0m     \u001b[0;32mfor\u001b[0m \u001b[0mdata\u001b[0m \u001b[0;32min\u001b[0m \u001b[0mreader\u001b[0m\u001b[0;34m:\u001b[0m \u001b[0;31m# for文を用いて一行ずつ読み込む\u001b[0m\u001b[0;34m\u001b[0m\u001b[0;34m\u001b[0m\u001b[0m\n",
      "\u001b[0;32m/anaconda3/lib/python3.7/codecs.py\u001b[0m in \u001b[0;36mdecode\u001b[0;34m(self, input, final)\u001b[0m\n\u001b[1;32m    320\u001b[0m         \u001b[0;31m# decode input (taking the buffer into account)\u001b[0m\u001b[0;34m\u001b[0m\u001b[0;34m\u001b[0m\u001b[0;34m\u001b[0m\u001b[0m\n\u001b[1;32m    321\u001b[0m         \u001b[0mdata\u001b[0m \u001b[0;34m=\u001b[0m \u001b[0mself\u001b[0m\u001b[0;34m.\u001b[0m\u001b[0mbuffer\u001b[0m \u001b[0;34m+\u001b[0m \u001b[0minput\u001b[0m\u001b[0;34m\u001b[0m\u001b[0;34m\u001b[0m\u001b[0m\n\u001b[0;32m--> 322\u001b[0;31m         \u001b[0;34m(\u001b[0m\u001b[0mresult\u001b[0m\u001b[0;34m,\u001b[0m \u001b[0mconsumed\u001b[0m\u001b[0;34m)\u001b[0m \u001b[0;34m=\u001b[0m \u001b[0mself\u001b[0m\u001b[0;34m.\u001b[0m\u001b[0m_buffer_decode\u001b[0m\u001b[0;34m(\u001b[0m\u001b[0mdata\u001b[0m\u001b[0;34m,\u001b[0m \u001b[0mself\u001b[0m\u001b[0;34m.\u001b[0m\u001b[0merrors\u001b[0m\u001b[0;34m,\u001b[0m \u001b[0mfinal\u001b[0m\u001b[0;34m)\u001b[0m\u001b[0;34m\u001b[0m\u001b[0;34m\u001b[0m\u001b[0m\n\u001b[0m\u001b[1;32m    323\u001b[0m         \u001b[0;31m# keep undecoded input until the next call\u001b[0m\u001b[0;34m\u001b[0m\u001b[0;34m\u001b[0m\u001b[0;34m\u001b[0m\u001b[0m\n\u001b[1;32m    324\u001b[0m         \u001b[0mself\u001b[0m\u001b[0;34m.\u001b[0m\u001b[0mbuffer\u001b[0m \u001b[0;34m=\u001b[0m \u001b[0mdata\u001b[0m\u001b[0;34m[\u001b[0m\u001b[0mconsumed\u001b[0m\u001b[0;34m:\u001b[0m\u001b[0;34m]\u001b[0m\u001b[0;34m\u001b[0m\u001b[0;34m\u001b[0m\u001b[0m\n",
      "\u001b[0;31mUnicodeDecodeError\u001b[0m: 'utf-8' codec can't decode bytes in position 12-13: invalid continuation byte"
     ]
    }
   ],
   "source": [
    "#with open('/Users/tabatatoshinori/git/TomatoPJ/work/10_tabata/03_PGM/実験用データ/txt/問題文/問題分1.txt', \"r\", encoding=\"UTF-8\") as f:\n",
    "with open('/Users/tabatatoshinori/git/TomatoPJ/work/10_tabata/03_PGM/実験用データ/csv/問題分1.csv', \"r\", encoding=\"UTF-8\") as f:\n",
    "\n",
    "    reader = f.read()\n",
    "    \n",
    "    for data in reader: # for文を用いて一行ずつ読み込む\n",
    "        parse = tagger.parse(data)\n",
    "        lines = parse.split('\\n')\n",
    "        items = (re.split('[\\t,]', line) for line in lines)\n",
    "\n",
    "        # 名詞をリストに格納\n",
    "        words = [item[0]\n",
    "             for item in items\n",
    "                 if (item[0] not in ('EOS', '', 't', 'ー') and\n",
    "                 item[1] == '名詞' and item[2] == '一般')]\n",
    "        print(words)\n",
    "        # 頻度順に出力\n",
    "        counter = Counter(words)\n",
    "       \n",
    "        result_count_dict = {'0050' : 0,'1050' : 0, '2050' : 0, '3050' : 0, '3100' : 0, '3150' : 0, \n",
    "                            '3200' : 0, '3250' : 0, '3300' : 0, '3350' : 0, '3400' : 0, '3450' : 0, \n",
    "                             '3500' : 0, '3550' : 0, '3600' : 0, '3650' : 0, '3700' : 0, '3750' : 0, \n",
    "                             '3800' : 0, '4050' : 0, '5050' : 0, '5100' : 0, '5150' : 0, '5200' : 0, \n",
    "                             '5250' : 0, '6050' : 0, '6100' : 0, '7050' : 0, '7100' : 0, '7150' : 0, \n",
    "                            '7200' : 0, '8050' : 0, '9050' : 0}  #集計結果リストの初期化\n",
    "        \n",
    "        #for word, count in counter:\n",
    "        #    for dict_goyushu in df_dictionary:\n",
    "        #        if dict_goyushu[1] == word:\n",
    "        #          result_count_dict[dict_goyushu[0]] = result_count_dict.get(dict_goyushu[0]) + count\n",
    "                    \n",
    "            \n",
    "            \n",
    "            \n",
    "    "
   ]
  },
  {
   "cell_type": "code",
   "execution_count": null,
   "metadata": {},
   "outputs": [],
   "source": []
  }
 ],
 "metadata": {
  "kernelspec": {
   "display_name": "Python 3",
   "language": "python",
   "name": "python3"
  },
  "language_info": {
   "codemirror_mode": {
    "name": "ipython",
    "version": 3
   },
   "file_extension": ".py",
   "mimetype": "text/x-python",
   "name": "python",
   "nbconvert_exporter": "python",
   "pygments_lexer": "ipython3",
   "version": "3.7.3"
  }
 },
 "nbformat": 4,
 "nbformat_minor": 2
}
