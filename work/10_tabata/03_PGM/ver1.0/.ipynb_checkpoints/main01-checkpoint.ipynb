{
 "cells": [
  {
   "cell_type": "code",
   "execution_count": 11,
   "metadata": {},
   "outputs": [],
   "source": [
    "#import\n",
    "import pandas as pd\n",
    "import csv\n",
    "import MeCab\n",
    "import re\n",
    "from collections import Counter\n"
   ]
  },
  {
   "cell_type": "code",
   "execution_count": 30,
   "metadata": {},
   "outputs": [
    {
     "name": "stdout",
     "output_type": "stream",
     "text": [
      "グループ\n"
     ]
    }
   ],
   "source": [
    "#自身のPCのgitHub親パス(次は田端の場合。動かす場合は、各自のパスに差し替えること)\n",
    "root_git_path = \"/Users/tabatatoshinori/git\"\n",
    "df_dictionary = pd.read_csv(root_git_path + '/TomatoPJ/work/10_tabata/03_PGM/実験用データ/result_corpus.csv').values.tolist()\n",
    "print(df_dictionary[1][1])"
   ]
  },
  {
   "cell_type": "code",
   "execution_count": 69,
   "metadata": {},
   "outputs": [
    {
     "name": "stdout",
     "output_type": "stream",
     "text": [
      "Counter({'フィナンシャルグループ': 4, '情報': 3, '企業': 3, 'シンクタンク': 2, '分野': 2, '業務': 2, '総研': 1, '民間': 1, '官公庁': 1, '政府': 1, '機関': 1, 'コンサルティング': 1, '戦略': 1, '専門': 1, '知識': 1, 'スペシャリスト': 1, 'クライアント': 1, 'ニーズ': 1, '質': 1, 'ソリューション': 1, '社会': 1, '方向': 1, '政策': 1, '先端': 1, '技術': 1, '会員': 1, '人事': 1, 'プラットフォーム': 1, '証券': 1})\n",
      "{'0050': '0', '1050': '0', '2050': '0', '3050': '0', '3100': '0', '3150': '0', '3200': '0', '3250': '0', '3300': '0', '3350': '0', '3400': '0', '3450': '0', '3500': '0', '3550': '0', '3600': '0', '3650': '0', '3700': '0', '3750': '0', '3800': '0', '4050': '0', '5050': '0', '5100': '0', '5150': '0', '5200': '0', '5250': '0', '6050': '0', '6100': '0', '7050': '0', '7100': '0', '7150': '0', '7200': '0', '8050': '0', '9050': '0', 7050: 1, 7100: 1, 7150: 1, 7200: 1, 8050: 1, 9050: 1, 6050: 1, 6100: 1}\n"
     ]
    }
   ],
   "source": [
    "tagger = MeCab.Tagger()\n",
    "\n",
    "with open('/Users/tabatatoshinori/git/TomatoPJ/work/10_tabata/03_PGM/実験用データ/みずほ情報総研.txt', \"r\", encoding=\"UTF-8\") as f:\n",
    "    reader = f.read()\n",
    "    parse = tagger.parse(reader)\n",
    "    lines = parse.split('\\n')\n",
    "    items = (re.split('[\\t,]', line) for line in lines)\n",
    "\n",
    "    # 名詞をリストに格納\n",
    "    words = [item[0]\n",
    "        for item in items\n",
    "            if (item[0] not in ('EOS', '', 't', 'ー') and\n",
    "                 item[1] == '名詞' and item[2] == '一般')]\n",
    "        \n",
    "    # 頻度順に出力\n",
    "    counter = Counter(words)\n",
    "    print(counter)\n",
    "    result_count_dict = {'0050' : '0','1050' : '0', '2050' : '0', '3050' : '0', '3100' : '0', '3150' : '0', \n",
    "                        '3200' : '0', '3250' : '0', '3300' : '0', '3350' : '0', '3400' : '0', '3450' : '0', \n",
    "                        '3500' : '0', '3550' : '0', '3600' : '0', '3650' : '0', '3700' : '0', '3750' : '0', \n",
    "                        '3800' : '0', '4050' : '0', '5050' : '0', '5100' : '0', '5150' : '0', '5200' : '0', \n",
    "                         '5250' : '0', '6050' : '0', '6100' : '0', '7050' : '0', '7100' : '0', '7150' : '0', \n",
    "                        '7200' : '0', '8050' : '0', '9050' : '0'}  #集計結果リストの初期化\n",
    "    #print(result_count_dict)\n",
    "    #print(type(result_count_dict))\n",
    "    for word, count in counter.most_common():\n",
    "        for dict_gyoushu in df_dictionary:\n",
    "            \n",
    "            if dict_gyoushu[1] == word:\n",
    "                #print(\"合致!!\") \n",
    "                #print(type(dict_gyoushu[0]))\n",
    "                #print(result_count_dict.get(str(dict_gyoushu[0])))\n",
    "                result_count_dict[dict_gyoushu[0]] = int(result_count_dict.get(str(dict_gyoushu[0]))) + int(count)    \n",
    "    print(result_count_dict)"
   ]
  },
  {
   "cell_type": "code",
   "execution_count": null,
   "metadata": {},
   "outputs": [],
   "source": []
  },
  {
   "cell_type": "code",
   "execution_count": 46,
   "metadata": {},
   "outputs": [
    {
     "name": "stdout",
     "output_type": "stream",
     "text": [
      "5\n"
     ]
    }
   ],
   "source": [
    "result_count_dict2= {'0050' : '0','1050' : '0', '2050' : '0', '3050' : '0', '3100' : '0', '3150' : '0', \n",
    "                        '3200' : '0', '3250' : '0', '3300' : '0', '3350' : '0', '3400' : '0', '3450' : '0', \n",
    "                        '3500' : '0', '3550' : '0', '3600' : '0', '3650' : '0', '3700' : '0', '3750' : '0', \n",
    "                        '3800' : '0', '4050' : '0', '5050' : '0', '5100' : '0', '5150' : '0', '5200' : '0', \n",
    "                         '5250' : '0', '6050' : '0', '6100' : '0', '7050' : '5', '7100' : '0', '7150' : '0', \n",
    "                        '7200' : '0', '8050' : '0', '9050' : '0'}  #集計結果リストの初期化\n",
    "print(result_count_dict2.get(\"7050\"))"
   ]
  },
  {
   "cell_type": "code",
   "execution_count": null,
   "metadata": {},
   "outputs": [],
   "source": []
  }
 ],
 "metadata": {
  "kernelspec": {
   "display_name": "Python 3",
   "language": "python",
   "name": "python3"
  },
  "language_info": {
   "codemirror_mode": {
    "name": "ipython",
    "version": 3
   },
   "file_extension": ".py",
   "mimetype": "text/x-python",
   "name": "python",
   "nbconvert_exporter": "python",
   "pygments_lexer": "ipython3",
   "version": "3.7.3"
  }
 },
 "nbformat": 4,
 "nbformat_minor": 2
}
