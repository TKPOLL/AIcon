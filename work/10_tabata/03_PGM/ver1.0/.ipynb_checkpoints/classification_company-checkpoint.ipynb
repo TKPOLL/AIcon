{
 "cells": [
  {
   "cell_type": "code",
   "execution_count": 1,
   "metadata": {},
   "outputs": [
    {
     "name": "stdout",
     "output_type": "stream",
     "text": [
      "[[1, '0050', '水産・農林業', 80], [2, '1050', '鉱業', 80], [3, '2050', '建設業', 80], [4, '3050', '食料品', 80], [5, '3100', '繊維製品', 80], [6, '3150', 'パルプ・紙', 80], [7, '3200', '化学', 80], [8, '3250', '医薬品', 80], [9, '3300', '石油・石炭製品', 80], [10, '3350', 'ゴム製品', 80], [11, '3400', 'ガラス・土石製品', 80], [12, '3450', '鉄鋼', 80], [13, '3500', '非鉄金属', 80], [14, '3550', '金属製品', 80], [15, '3600', '機械', 80], [16, '3650', '電気機器', 80], [17, '3700', '輸送用機器', 80], [18, '3750', '精密機器', 80], [19, '3800', 'その他製品', 80], [20, '4050', '電気・ガス業', 80], [21, '5050', '陸運業', 80], [22, '5100', '海運業', 80], [23, '5150', '空運業', 80], [24, '5200', '倉庫・運輸関連業', 80], [25, '5250', '情報・通信業', 80], [26, '6050', '卸売業', 80], [27, '6100', '小売業', 80], [28, '7050', '銀行業', 80], [29, '7100', '証券、商品先物取引業', 80], [30, '7150', '保険業', 80], [31, '7200', 'その他金融業', 80], [32, '8050', '不動産業', 80], [33, '9050', 'サービス業', 90]]\n"
     ]
    }
   ],
   "source": [
    "#import\n",
    "import pandas as pd\n",
    "import csv\n",
    "import MeCab\n",
    "import re\n",
    "from collections import Counter\n",
    "from const import const_gyoushu_list\n"
   ]
  },
  {
   "cell_type": "code",
   "execution_count": 17,
   "metadata": {},
   "outputs": [
    {
     "name": "stdout",
     "output_type": "stream",
     "text": [
      "        chord                  word  count\n",
      "0          50                    農業     13\n",
      "1          50                    事業     12\n",
      "2          50                    牧場     10\n",
      "3          50                    lt     10\n",
      "4          50                    gt     10\n",
      "5          50                  株式会社      9\n",
      "6          50                    会社      9\n",
      "7          50                    企業      9\n",
      "8          50                     月      8\n",
      "9          50                   ref      8\n",
      "10         50                    黒毛      8\n",
      "11         50                    和牛      7\n",
      "12         50                    組合      6\n",
      "13         50                    水産      6\n",
      "14         50                    海洋      6\n",
      "15         50                    本社      5\n",
      "16         50                   取締役      5\n",
      "17         50                    種苗      4\n",
      "18         50                     牛      4\n",
      "19         50                     和      4\n",
      "20         50                    環境      4\n",
      "21         50                    野菜      3\n",
      "22         50                     山      3\n",
      "23         50                    地方      3\n",
      "24         50                  ブランド      3\n",
      "25         50                    車線      3\n",
      "26         50                    資源      3\n",
      "27         50                  オーナー      3\n",
      "28         50                  http      3\n",
      "29         50                   レタス      3\n",
      "...       ...                   ...    ...\n",
      "119123   9050                   IPO      1\n",
      "119124   9050                    初値      1\n",
      "119125   9050               kabutan      1\n",
      "119126   9050      jpnewsmarketnews      1\n",
      "119127   9050                    bn      1\n",
      "119128   9050                   東西屋      1\n",
      "119129   9050                    幻灯      1\n",
      "119130   9050       Kinkikanmoviead      1\n",
      "119131   9050                    新居      1\n",
      "119132   9050                  大売出し      1\n",
      "119133   9050                     幟      1\n",
      "119134   9050                    風俗      1\n",
      "119135   9050                    圖會      1\n",
      "119136   9050                   大八車      1\n",
      "119137   9050              hyakunin      1\n",
      "119138   9050                    同位      1\n",
      "119139   9050                    元素      1\n",
      "119140   9050                   ひし形      1\n",
      "119141   9050                    外側      1\n",
      "119142   9050                     証      1\n",
      "119143   9050                    永遠      1\n",
      "119144   9050                     胸      1\n",
      "119145   9050        MorningstarInc      1\n",
      "119146   9050                イートレード      1\n",
      "119147   9050            ソフトバンクテレコム      1\n",
      "119148   9050       ソフトバンク・インベストメント      1\n",
      "119149   9050  モーニングスター・アセット・マネジメント      1\n",
      "119150   9050             バスグランドアロー      1\n",
      "119151   9050                     身      1\n",
      "119152   9050         ブロードエンタテインメント      1\n",
      "\n",
      "[119153 rows x 3 columns]\n",
      "['0050', '事業', 12]\n"
     ]
    }
   ],
   "source": [
    "#自身のPCのgitHub親パス(次は田端の場合。動かす場合は、各自のパスに差し替えること)\n",
    "root_git_path = \"/Users/tabatatoshinori/git\"\n",
    "df_dictionary1 = pd.read_csv(root_git_path + '/TomatoPJ/work/10_tabata/03_PGM/実験用データ/csv/加工前csv/data1/result.csv')\n",
    "print(df_dictionary1)\n",
    "df_dictionary = df_dictionary1.values.tolist()\n",
    "\n",
    "#cohodが50のものを0050に変換しておく\n",
    "for record in df_dictionary:\n",
    "    if record[0] == 50:\n",
    "        record[0] = '0050'\n",
    "\n",
    "print(df_dictionary[1])"
   ]
  },
  {
   "cell_type": "code",
   "execution_count": 22,
   "metadata": {},
   "outputs": [
    {
     "name": "stdout",
     "output_type": "stream",
     "text": [
      "Counter({'グループ': 6, '企業': 3, 'ロゴ': 3, '月': 3, '事業': 3, 'フィルム': 2, '誤植': 2, '小書き': 2, '写真': 2, '会社': 2, 'ホールディングス': 2, '株式会社': 2, '同社': 2, '社名': 1, '業界': 1, '読み': 1, '読み方': 1, '当社': 1, '拗音': 1, '系列': 1, '芙蓉': 1, '綱': 1, '倶楽部': 1, '双': 1, 'トクヤマ・ダイセル・': 1, '財閥': 1, '集団': 1, '勝': 1, '銀行': 1, '全国': 1, '地方銀行': 1, '地位': 1, '一役': 1, 'カメラ': 1, '店頭': 1, '看板': 1, '持株': 1, '傘下': 1, '体制': 1, '機': 1, 'CI': 1, '組み合わせ': 1, 'ローマ字': 1, 'I': 1, '部分': 1, '赤': 1, '黒': 1, '分野': 1, '姿勢': 1, 'コーポレート': 1, 'スローガン': 1, 'from': 1, 'Innovation': 1, '医療': 1, 'IT': 1, 'システム': 1, 'メーカー': 1, 'TeraMedica': 1, 'Inc': 1, '本社': 1, 'テラメディカ': 1, '子会社': 1})\n",
      "{'0050': '20', '1050': '37', '2050': '60', '3050': '65', '3100': '62', '3150': '51', '3200': '82', '3250': '60', '3300': '47', '3350': '43', '3400': '55', '3450': '51', '3500': '50', '3550': '57', '3600': '65', '3650': '70', '3700': '59', '3750': '56', '3800': '66', '4050': '51', '5050': '59', '5100': '53', '5150': '49', '5200': '53', '5250': '68', '6050': '68', '6100': '67', '7050': '59', '7100': '48', '7150': '48', '7200': '56', '8050': '63', '9050': '71'}\n"
     ]
    }
   ],
   "source": [
    "tagger = MeCab.Tagger()\n",
    "#/Users/tabatatoshinori/git/TomatoPJ/work/10_tabata/03_PGM/実験用データ/オリエンタルランド.txt\n",
    "#/Users/tabatatoshinori/git/TomatoPJ/work/10_tabata/03_PGM/実験用データ/みずほ情報総研.txt\n",
    "#/Users/tabatatoshinori/git/TomatoPJ/work/10_tabata/03_PGM/実験用データ/トヨタホーム.txt\n",
    "#/Users/tabatatoshinori/git/TomatoPJ/work/10_tabata/03_PGM/実験用データ/フジフィルム.txt\n",
    "with open('/Users/tabatatoshinori/git/TomatoPJ/work/10_tabata/03_PGM/実験用データ/フジフィルム.txt', \"r\", encoding=\"UTF-8\") as f:\n",
    "    reader = f.read()\n",
    "    parse = tagger.parse(reader)\n",
    "    lines = parse.split('\\n')\n",
    "    items = (re.split('[\\t,]', line) for line in lines)\n",
    "\n",
    "    # 名詞をリストに格納\n",
    "    words = [item[0]\n",
    "        for item in items\n",
    "            if (item[0] not in ('EOS', '', 't', 'ー') and\n",
    "                 item[1] == '名詞' and item[2] == '一般')]\n",
    "        \n",
    "    # 頻度順に出力\n",
    "    counter = Counter(words)\n",
    "    print(counter)\n",
    "    result_count_dict = {'0050' : '0','1050' : '0', '2050' : '0', '3050' : '0', '3100' : '0', '3150' : '0', \n",
    "                        '3200' : '0', '3250' : '0', '3300' : '0', '3350' : '0', '3400' : '0', '3450' : '0', \n",
    "                        '3500' : '0', '3550' : '0', '3600' : '0', '3650' : '0', '3700' : '0', '3750' : '0', \n",
    "                        '3800' : '0', '4050' : '0', '5050' : '0', '5100' : '0', '5150' : '0', '5200' : '0', \n",
    "                         '5250' : '0', '6050' : '0', '6100' : '0', '7050' : '0', '7100' : '0', '7150' : '0', \n",
    "                        '7200' : '0', '8050' : '0', '9050' : '0'}  #集計結果リストの初期化\n",
    "    #print(result_count_dict)\n",
    "    #print(type(result_count_dict))\n",
    "    for word, count in counter.most_common():\n",
    "        for dict_gyoushu in df_dictionary:\n",
    "            \n",
    "            if dict_gyoushu[1] == word:\n",
    "                #print(\"合致!!\") \n",
    "                #print(result_count_dict[str(dict_gyoushu[0])])\n",
    "                #print(count)\n",
    "                result_count_dict[str(dict_gyoushu[0])] = str(int(result_count_dict.get(str(dict_gyoushu[0]))) + int(count)  ) \n",
    "    print(result_count_dict)\n",
    "    \n",
    "    resultDict = result_count_dict\n",
    "    # 結果ファイルのパス(ファイル名は仮置き)\n",
    "    outputFile = '/Users/tabatatoshinori/git/TomatoPJ/work/10_tabata/03_PGM/ver1.0/output/submission.csv'\n",
    "    file = open(outputFile, 'w', encoding='utf-8')\n",
    "    #　上位３位の業種にソート ⇒　sortResultの辞書へ\n",
    "    sortResult = sorted(resultDict.items(), key=lambda x: x[1], reverse=True)[:10]\n",
    "\n",
    "    #ファイル名取得はinput時にファイル名から取得して、以下へ入れ込む\n",
    "\n",
    "    writeStr = 'ファイル名,'\n",
    "\n",
    "    for k, v in sortResult:\n",
    "        writeStr += str(k)+','\n",
    "\n",
    "    file.write(writeStr)\n",
    "    file.close()"
   ]
  },
  {
   "cell_type": "code",
   "execution_count": null,
   "metadata": {},
   "outputs": [],
   "source": []
  }
 ],
 "metadata": {
  "kernelspec": {
   "display_name": "Python 3",
   "language": "python",
   "name": "python3"
  },
  "language_info": {
   "codemirror_mode": {
    "name": "ipython",
    "version": 3
   },
   "file_extension": ".py",
   "mimetype": "text/x-python",
   "name": "python",
   "nbconvert_exporter": "python",
   "pygments_lexer": "ipython3",
   "version": "3.7.3"
  }
 },
 "nbformat": 4,
 "nbformat_minor": 2
}
