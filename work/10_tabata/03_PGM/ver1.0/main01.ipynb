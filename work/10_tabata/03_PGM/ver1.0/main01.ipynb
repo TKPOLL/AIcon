{
 "cells": [
  {
   "cell_type": "code",
   "execution_count": 1,
   "metadata": {},
   "outputs": [
    {
     "name": "stdout",
     "output_type": "stream",
     "text": [
      "[[1, '0050', '水産・農林業', 80], [2, '1050', '鉱業', 80], [3, '2050', '建設業', 80], [4, '3050', '食料品', 80], [5, '3100', '繊維製品', 80], [6, '3150', 'パルプ・紙', 80], [7, '3200', '化学', 80], [8, '3250', '医薬品', 80], [9, '3300', '石油・石炭製品', 80], [10, '3350', 'ゴム製品', 80], [11, '3400', 'ガラス・土石製品', 80], [12, '3450', '鉄鋼', 80], [13, '3500', '非鉄金属', 80], [14, '3550', '金属製品', 80], [15, '3600', '機械', 80], [16, '3650', '電気機器', 80], [17, '3700', '輸送用機器', 80], [18, '3750', '精密機器', 80], [19, '3800', 'その他製品', 80], [20, '4050', '電気・ガス業', 80], [21, '5050', '陸運業', 80], [22, '5100', '海運業', 80], [23, '5150', '空運業', 80], [24, '5200', '倉庫・運輸関連業', 80], [25, '5250', '情報・通信業', 80], [26, '6050', '卸売業', 80], [27, '6100', '小売業', 80], [28, '7050', '銀行業', 80], [29, '7100', '証券、商品先物取引業', 80], [30, '7150', '保険業', 80], [31, '7200', 'その他金融業', 80], [32, '8050', '不動産業', 80], [33, '9050', 'サービス業', 90]]\n"
     ]
    }
   ],
   "source": [
    "#import\n",
    "import collections\n",
    "from const import const_gyoushu_list\n",
    "import math\n",
    "import pandas as pd\n",
    "import csv\n",
    "import MeCab\n"
   ]
  },
  {
   "cell_type": "code",
   "execution_count": 4,
   "metadata": {},
   "outputs": [],
   "source": [
    "#自身のPCのgitHub親パス(次は田端の場合。動かす場合は、各自のパスに差し替えること)\n",
    "root_git_path = \"/Users/tabatatoshinori/git\"\n",
    "\n",
    "\n",
    "df_dictionary = pd.read_csv(root_git_path + '/TomatoPJ/work/10_tabata/03_PGM/実験用データ/result_corpus.csv').values.tolist()"
   ]
  },
  {
   "cell_type": "code",
   "execution_count": null,
   "metadata": {},
   "outputs": [],
   "source": [
    "with open('/Users/tabatatoshinori/git/TomatoPJ/work/10_tabata/03_PGM/実験用データ/txt/問題分.txt', \"r\", encoding=\"UTF-8\") as f:\n",
    "    data = f.read()\n",
    "    \n",
    "    for r in reader: # for文を用いて一行ずつ読み込む\n",
    "        parse = tagger.parse(r[0])\n",
    "        lines = parse.split('\\n')\n",
    "        items = (re.split('[\\t,]', line) for line in lines)\n",
    "\n",
    "        # 名詞をリストに格納\n",
    "        words = [item[0]\n",
    "             for item in items\n",
    "                 if (item[0] not in ('EOS', '', 't', 'ー') and\n",
    "                 item[1] == '名詞' and item[2] == '一般')]\n",
    "\n",
    "        # 頻度順に出力\n",
    "        counter = Counter(words)\n",
    "        result_count_list = dict() #集計結果リストの初期化\n",
    "        for word, count in counter:\n",
    "            for dict_goyushu in df_dictionary\n",
    "                if dict_goyushu[2]\n",
    "            \n",
    "            \n",
    "            \n",
    "            \n",
    "    "
   ]
  }
 ],
 "metadata": {
  "kernelspec": {
   "display_name": "Python 3",
   "language": "python",
   "name": "python3"
  },
  "language_info": {
   "codemirror_mode": {
    "name": "ipython",
    "version": 3
   },
   "file_extension": ".py",
   "mimetype": "text/x-python",
   "name": "python",
   "nbconvert_exporter": "python",
   "pygments_lexer": "ipython3",
   "version": "3.7.3"
  }
 },
 "nbformat": 4,
 "nbformat_minor": 2
}
